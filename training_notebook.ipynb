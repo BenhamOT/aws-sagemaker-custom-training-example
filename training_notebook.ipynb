{
 "cells": [
  {
   "cell_type": "markdown",
   "source": [
    "# Basic model training\n",
    "\n",
    "This notebook is split into two sections: The first section creates a basic model training job that trains a single model using the user defined hyperparameters, and a second section that starts a hyperparameter training job to search for the best hyperparameters with a given user defined range."
   ],
   "metadata": {
    "collapsed": false,
    "pycharm": {
     "name": "#%% md\n"
    }
   }
  },
  {
   "cell_type": "markdown",
   "source": [
    "Import the required packages and create an execution role to handle permissions"
   ],
   "metadata": {
    "collapsed": false,
    "pycharm": {
     "name": "#%% md\n"
    }
   }
  },
  {
   "cell_type": "code",
   "execution_count": null,
   "metadata": {
    "pycharm": {
     "name": "#%%\n",
     "is_executing": true
    }
   },
   "outputs": [],
   "source": [
    "import os\n",
    "import sagemaker\n",
    "from sagemaker import get_execution_role\n",
    "\n",
    "sagemaker_session = sagemaker.Session()\n",
    "\n",
    "role = get_execution_role()\n",
    "region = sagemaker_session.boto_session.region_name\n",
    "region"
   ]
  },
  {
   "cell_type": "markdown",
   "source": [
    "Specify the path to the training and validation data stored in S3"
   ],
   "metadata": {
    "collapsed": false,
    "pycharm": {
     "name": "#%% md\n"
    }
   }
  },
  {
   "cell_type": "code",
   "execution_count": null,
   "metadata": {
    "pycharm": {
     "name": "#%%\n",
     "is_executing": true
    }
   },
   "outputs": [],
   "source": [
    "training_data_uri = 's3://<path to training data>>'\n",
    "validation_data_uri = 's3://<path to validation data>'\n",
    "fit_input = {'train': training_data_uri, 'validation': validation_data_uri}"
   ]
  },
  {
   "cell_type": "markdown",
   "source": [
    "Specify the hyperparameters and define the sagemaker Tensorflow estimator"
   ],
   "metadata": {
    "collapsed": false,
    "pycharm": {
     "name": "#%% md\n"
    }
   }
  },
  {
   "cell_type": "code",
   "execution_count": 3,
   "metadata": {
    "pycharm": {
     "name": "#%%\n"
    }
   },
   "outputs": [],
   "source": [
    "from sagemaker.tensorflow import TensorFlow\n",
    "\n",
    "# define the specific hyperparameters used for model training.\n",
    "hyperparameters = {\n",
    "    'batch-size': 32,\n",
    "    'fine-tune-learning-rate': 1.0e-04,\n",
    "    'fine-tune-epochs': 1,\n",
    "    'fine-tune-layer': 100,\n",
    "}\n",
    "\n",
    "metric_definitions = [\n",
    "    {'Name': 'validation accuracy', 'Regex': 'val_accuracy: ([0-9\\\\.]+)'},\n",
    "    {'Name': 'training accuracy', 'Regex': ' accuracy: ([0-9\\\\.]+)'},\n",
    "]\n",
    "\n",
    "# specify the custom training module to be used e.g. xception_sagemaker_training.py or mobilenet_v3_sagemaker_training.py\n",
    "tf_estimator = TensorFlow(\n",
    "    entry_point='Xception_sagemaker_training.py',\n",
    "    role=role,\n",
    "    instance_count=1,\n",
    "    instance_type='ml.p3.2xlarge',\n",
    "    framework_version='2.4.1',\n",
    "    py_version='py37',\n",
    "    hyperparameters=hyperparameters,\n",
    "    metric_definitions=metric_definitions\n",
    ")"
   ]
  },
  {
   "cell_type": "markdown",
   "source": [
    "Train the model"
   ],
   "metadata": {
    "collapsed": false,
    "pycharm": {
     "name": "#%% md\n"
    }
   }
  },
  {
   "cell_type": "code",
   "execution_count": null,
   "metadata": {
    "pycharm": {
     "name": "#%%\n",
     "is_executing": true
    }
   },
   "outputs": [],
   "source": [
    "tf_estimator.fit(fit_input)"
   ]
  },
  {
   "cell_type": "markdown",
   "source": [
    "Uncomment the below to deploy the trained model"
   ],
   "metadata": {
    "collapsed": false,
    "pycharm": {
     "name": "#%% md\n"
    }
   }
  },
  {
   "cell_type": "code",
   "execution_count": null,
   "metadata": {
    "pycharm": {
     "name": "#%%\n",
     "is_executing": true
    }
   },
   "outputs": [],
   "source": [
    "# tf_estimator.deploy(initial_instance_count=1, instance_type=\"ml.t2.large\")"
   ]
  },
  {
   "cell_type": "markdown",
   "metadata": {
    "pycharm": {
     "name": "#%% md\n"
    }
   },
   "source": [
    "## Hyperparameter Tuning"
   ]
  },
  {
   "cell_type": "code",
   "execution_count": 4,
   "metadata": {
    "pycharm": {
     "name": "#%%\n"
    }
   },
   "outputs": [],
   "source": [
    "from sagemaker.tuner import ContinuousParameter, CategoricalParameter, IntegerParameter, HyperparameterTuner\n",
    "\n",
    "# specify the range for the different parameters\n",
    "hyperparamter_range = {\n",
    "    'batch-size': CategoricalParameter([16,32,64, 128]),\n",
    "    'fine-tune-learning-rate': ContinuousParameter(1e-5, 1e-3),\n",
    "    'fine-tune-epochs': IntegerParameter(3, 10),\n",
    "    'fine-tune-layer': IntegerParameter(0, 100)\n",
    "}\n",
    "\n",
    "# more parameters can be added by adding arguments into the entry_point script e.g. Xception_sagemaker_training.py"
   ]
  },
  {
   "cell_type": "code",
   "execution_count": 5,
   "metadata": {
    "pycharm": {
     "name": "#%%\n"
    }
   },
   "outputs": [],
   "source": [
    "objective_metric_name = 'validation accuracy'\n",
    "hyp_metric_definitions = [{'Name': 'validation accuracy', 'Regex': 'val_accuracy: ([0-9\\\\.]+)'}]"
   ]
  },
  {
   "cell_type": "markdown",
   "source": [
    "Create the hyperparameter runing job"
   ],
   "metadata": {
    "collapsed": false,
    "pycharm": {
     "name": "#%% md\n"
    }
   }
  },
  {
   "cell_type": "code",
   "execution_count": null,
   "metadata": {
    "pycharm": {
     "name": "#%%\n",
     "is_executing": true
    }
   },
   "outputs": [],
   "source": [
    "tuner = HyperparameterTuner(\n",
    "    tf_estimator,\n",
    "    objective_metric_name,\n",
    "    hyperparamter_range,\n",
    "    hyp_metric_definitions,\n",
    "    max_jobs=20,\n",
    "    max_parallel_jobs=2\n",
    ")\n",
    "\n",
    "tuner.fit(fit_input)"
   ]
  },
  {
   "cell_type": "markdown",
   "source": [
    "Get information about the job that's just been run"
   ],
   "metadata": {
    "collapsed": false,
    "pycharm": {
     "name": "#%% md\n"
    }
   }
  },
  {
   "cell_type": "code",
   "execution_count": null,
   "metadata": {
    "pycharm": {
     "name": "#%%\n"
    }
   },
   "outputs": [
    {
     "data": {
      "text/plain": [
       "<sagemaker.HyperparameterTuningJobAnalytics for tensorflow-training-210416-1052>"
      ]
     },
     "execution_count": 7,
     "metadata": {},
     "output_type": "execute_result"
    }
   ],
   "source": [
    "tuner.analytics()"
   ]
  },
  {
   "cell_type": "code",
   "execution_count": null,
   "metadata": {
    "pycharm": {
     "name": "#%%\n",
     "is_executing": true
    }
   },
   "outputs": [],
   "source": [
    "tuner.describe()"
   ]
  },
  {
   "cell_type": "markdown",
   "source": [
    "Retrieve the best model based on the specified objective metric"
   ],
   "metadata": {
    "collapsed": false,
    "pycharm": {
     "name": "#%% md\n"
    }
   }
  },
  {
   "cell_type": "code",
   "execution_count": null,
   "metadata": {
    "pycharm": {
     "name": "#%%\n",
     "is_executing": true
    }
   },
   "outputs": [],
   "source": [
    "tuner.best_estimator()"
   ]
  }
 ],
 "metadata": {
  "instance_type": "ml.t3.medium",
  "kernelspec": {
   "display_name": "Python 3 (Data Science)",
   "language": "python",
   "name": "python3__SAGEMAKER_INTERNAL__arn:aws:sagemaker:eu-west-1:470317259841:image/datascience-1.0"
  },
  "language_info": {
   "codemirror_mode": {
    "name": "ipython",
    "version": 3
   },
   "file_extension": ".py",
   "mimetype": "text/x-python",
   "name": "python",
   "nbconvert_exporter": "python",
   "pygments_lexer": "ipython3",
   "version": "3.7.10"
  }
 },
 "nbformat": 4,
 "nbformat_minor": 4
}